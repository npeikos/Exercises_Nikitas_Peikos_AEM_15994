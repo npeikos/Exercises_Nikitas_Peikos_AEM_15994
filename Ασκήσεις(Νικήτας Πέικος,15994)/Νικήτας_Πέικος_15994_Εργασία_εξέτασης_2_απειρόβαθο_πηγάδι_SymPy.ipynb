{
 "cells": [
  {
   "cell_type": "markdown",
   "id": "d0aa07b8",
   "metadata": {},
   "source": [
    "**ΤΜΗΜΑ ΦΥΣΙΚΗΣ - ΑΡΙΣΤΟΤΕΛΕΙΟ ΠΑΝΕΠΙΣΤΗΜΙΟ ΘΕΣΣΑΛΟΝΙΚΗΣ**<br>\n",
    "**ΜΑΘΗΜΑ: Προβλήματα Κβαντικής Φυσικής [ΓΘΕ204]**<br>\n",
    "**ΑΚΑΔΗΜΑΪΚΟ ΕΤΟΣ: 2024-2025**\n",
    "\n",
    "**Εξεταστική Ιουνίου 2025**\n",
    "\n",
    "**Ημέρα εξέτασης: 17/6/2025**\n",
    "\n",
    "**Εργασία τελικής εξέτασης**:\n",
    "Να αποσταλλεί το συμπληρωμένο αρχείο την παραμονή της εξέτασης, **16/6/2025 μέχρι τις 12 το μεσημέρι**, στα email thdiakonidis@auth.gr, istergak@auth.gr \n",
    "\n",
    "Σε περίπτωση που εφαρμόσετε όλα τα αποτελέσματά σας σε μια κλάση έχετε bonus μια μονάδα."
   ]
  },
  {
   "cell_type": "markdown",
   "id": "1c4b67c7",
   "metadata": {},
   "source": [
    "# **ΕΡΓΑΣΙΑ ΤΕΛΙΚΗΣ ΕΞΕΤΑΣΗΣ:<br> Μελέτη του απειρόβαθου φρέατος δυναμικού με τη χρήση της `SymPy`**"
   ]
  },
  {
   "cell_type": "markdown",
   "id": "78b9374b",
   "metadata": {},
   "source": [
    "## Eισαγωγή\n",
    "\n",
    "**Στοιχεία θεωρίας**:\n",
    "1. ***σελ. 50-51, ΣΗΜΕΙΩΣΕΙΣ ΚΒΑΝΤΟΜΗΧΑΝΙΚΗΣ Ι - Σ.Η.ΜΑΣΕΝ***\n",
    "2. ***σελ. 231-233, Quantum Mechanics: Concepts and Applications - Nouredine Zettili***\n",
    "\n",
    "\n",
    "Σε αυτή την εργασία θα μελετήσετε την παρουσία ενός κβαντικού σωματιδίου μάζας $m$ εντός ενός φρέατος δυναμικού απείρου βάθους. Η μαθηματική έκφραση του δυναμικού για το ασσύμετρο φρέαρ σε μια διάσταση δίνεται παρακάτω:\n",
    "$$\\begin{matrix}\n",
    "V(x)=\n",
    "\\begin{cases}\n",
    "\\infty,& x<0 \\\\\n",
    "0,& 0<x<L \\\\\n",
    "\\infty,& x>L \n",
    "\\end{cases} & (1)\n",
    "\\end{matrix}\n",
    "$$\n",
    "\n",
    "Συνεπώς, στις περιοχές $x<0$ και $x>L$, όπου το δυναμικό απειρίζεται, η κυματοσυνάρτηση είναι μηδέν. Στο εσωτερικό όμως του φρέατος, δηλαδή στη περιοχή $0<x<L$, η κυματοσυνάρτηση είναι διαφορετική του μηδενός, έστω με χωρικό μέρος $u(x)$. Δηλαδή, συνολικά για το χωρικό μέρος της κυματοσυνάρτησης $ψ(x)$ του σωματιδίου, έχουμε:\n",
    "$$\\begin{matrix}\n",
    "ψ(x)=\n",
    "\\begin{cases}\n",
    "0,& x<0 \\\\\n",
    "u(x),& 0<x<L \\\\\n",
    "0,& x>L \n",
    "\\end{cases} & (2)\n",
    "\\end{matrix}\n",
    "$$ "
   ]
  },
  {
   "cell_type": "code",
   "execution_count": 4,
   "id": "b555841d",
   "metadata": {},
   "outputs": [],
   "source": [
    "# Εδώ να εισάγετε τη βιβλιοθήκη SymPy\n",
    "import sympy as smp"
   ]
  },
  {
   "cell_type": "markdown",
   "id": "2be3fe58",
   "metadata": {},
   "source": [
    "## Ερώτηση 1: Επίλυση διαφορικής εξίσωσης\n",
    "\n",
    "Η μορφή της $u(x)$ στη σχέση $(2)$ προκύπτει από την επίλυση της εξίσωσης του *Scrodinger* (διαφορικής εξίσωση 2ης τάξης):\n",
    "$$\\begin{matrix}\n",
    "u^{''}(x)+k^2_0u(x)=0, & k^2_0=\\frac{2mE}{\\hbar^2} & (3)\n",
    "\\end{matrix}$$\n",
    "με κατάλληλες συνοριακές συνθήκες και $Ε>0$.\n",
    "\n",
    "Με τη χρήση της `SymPy` να λύσετε την διαφορική εξίσωση των σχέσεων $(3)$ για $k_0>0$:<br>\n",
    "**α)** Χωρίς αρχικές συνθήκες<br>\n",
    "**β)** Με τη χρήση της αρχικής συνθήκης: $u(0)=0$ (πρώτη από τις δύο οριακές συνθήκες)<br>\n",
    "**γ)** Προκύπτουν οι ίδιες λύσεις για $k_0<0$; Εξηγήστε."
   ]
  },
  {
   "cell_type": "markdown",
   "id": "7886af4d",
   "metadata": {},
   "source": [
    "## Ερώτηση 2: Κανονικοποίηση και επαλήθευση\n",
    "\n",
    "Εφόσον η διαφορική εξίσωση της $(3)$ έχει λυθεί σωστά με την συνθήκη $u(0)=0$, η $u(x)$ προκύπτει ίση με:\n",
    "$$\\begin{matrix}\n",
    "u(x) = B sin(k_0x) & (4)\n",
    "\\end{matrix}$$\n",
    "\n",
    "Θα χρησιμοποιήσετε τώρα τη δεύτερη οριακή συνθήκη $u(L)=0$:\n",
    "\n",
    "**α)** Να ορίσετε τη κυματοσυνάρτηση $u$ ως συνάρτηση των $x,B,k_0$ με συμβολικό τύπο σύμφωνα με τη σχέση $(4)$. Να λύσετε την εξίσωση: $u(L)=0$, για $Β\\neq0$, ως προς την μεταβλητή $k_0$. Ποια είναι η πιο κατάλληλη εντολή επίλυσης στην προκειμένη περίπτωση: `solve` ή `solveset`; Εξηγήστε.\n",
    "\n",
    "**β)** Η σωστή επίλυση της εξίσωσης $u(L)=0$, δίνει $k_0=\\frac{n\\pi}{L}$. Επομένως, η κυματοσυνάρτηση $u$ μπορεί να ξαναοριστεί ως συνάρτηση $u_n$ των $x,B,n,L$, ενώ η αντίστοιχη ενεργειακή στάθμη μπορεί πλέον να οριστεί ως συνάρτηση $E_n$ των $n,L,m$. Πραγματοποιήστε σωστά τους παραπάνω ορισμούς και εκτυπώστε την γενική μορφή της κυματοσυνάρτησης $u_n$, καθώς και της αντίστοιχης ενεργειακής στάθμης $Ε_n$.\n",
    "\n",
    "**γ)** Στους προηγούμενους ορισμούς η κυματοσυνάρτηση $u_n$ δεν είναι κανονικοποιημένη. Η σωστή κανονικοποίηση της $u_n$ απαιτεί να ισχύει η συνθήκη:\n",
    "$$\\begin{matrix}\n",
    "I=\\int^L_0|u_n(x)|^2dx=1 & (5)\n",
    "\\end{matrix}$$\n",
    "για οποιαδήποτε τιμή των $n,L$. Φτιάξτε μια διαδικασία (function) της *Python* στην οποία να αποδεικνύετε ότι η αυθαίρετη σταθερά κανονικοποίσης $B$, προκύπτει να είναι ίση με: \n",
    "$$\\begin{matrix}\n",
    "B=\\pm\\sqrt{2/L} & (6)\n",
    "\\end{matrix}$$\n",
    "για οποιαδήποτε τιμή του κβαντικού αριθμού $n$.\n",
    "\n",
    "**δ)** Πλέον, η σωστά κανονικοποιημένη κυματοσυνάρτηση $u_n$ μπορεί να οριστεί μόνο ως συνάρτηση των $x,n,L$, χρησιμοποιώντας μια εκ των δύο τιμών της σχέσης (6). Αφού ορίσετε σωστά την κανονικοποιημένη $u_n$, να εκτυπώσετε την μορφή της $u_n$ και της αντίστοιχης ενεργειακής στάθμης $E_n$ για τις εξής τιμές του κβαντικού αριθμού $n:1,2,3,4$. Nα αποδείξετε, επίσης, ότι οι κυματοσυναρτήσεις $u_n$ αποτελούν ορθοκανονική βάση."
   ]
  },
  {
   "cell_type": "markdown",
   "id": "c3118c08-8b24-4b5d-b76d-30776a3ef19b",
   "metadata": {},
   "source": [
    "## Λύση:"
   ]
  },
  {
   "cell_type": "markdown",
   "id": "93d2a52e-96a7-4950-bd21-cd94a72c0e98",
   "metadata": {},
   "source": [
    "## Δημιουργία της κλάσης\n",
    "Πρωτού απαντηθούν οι ερωτήσεις, θα κατασκευάσω μία κλάση με την οποία και θα δουλέψω στην συνέχεια. Η κλάση παρουσιάζεται παρακάτω:"
   ]
  },
  {
   "cell_type": "code",
   "execution_count": 9,
   "id": "a5d44335-9119-46b9-b9a3-22a6b6fc21e8",
   "metadata": {},
   "outputs": [],
   "source": [
    "class SquareWell:\n",
    "    def __init__(self):\n",
    "        self.x=smp.symbols('x')\n",
    "        self.u=smp.Function('u')\n",
    "        self.mass=smp.symbols('m',positive=True)\n",
    "        self.hbar=smp.symbols(\"hbar\",positive=True)\n",
    "        self.energy=smp.symbols(\"E\",positive=True)\n",
    "        self.k0_symbol=smp.symbols(\"k0\",positive=True)\n",
    "        self.k0_squared=(2*self.mass*self.energy)/(self.hbar**2)\n",
    "        self.B=smp.symbols('B',nonzero=True)\n",
    "        self.L=smp.symbols('L',positive=True,nonzero=True)\n",
    "        self.n=smp.symbols('n',integer=True,positive=True,nonzero=True)\n",
    "        self.m=smp.symbols('m',integer=True,positive=True,nonzero=True)\n",
    "    ##############################\n",
    "       ####Για το Eρ΄ώτημα 1####   \n",
    "    ##############################\n",
    "    def question_1(self,s):\n",
    "        if s==1:\n",
    "            k0=smp.sqrt(self.k0_squared)\n",
    "            deq1=smp.Eq(self.u(self.x).diff(self.x,2),-k0**2*self.u(self.x))\n",
    "            solution=smp.dsolve(deq1,self.u(self.x))\n",
    "            return solution\n",
    "        elif s==2:\n",
    "            k0=smp.sqrt(self.k0_squared)\n",
    "            deq1=smp.Eq(self.u(self.x).diff(self.x,2),-k0**2*self.u(self.x))\n",
    "            solution=smp.dsolve(deq1,self.u(self.x),ics={self.u(0):0})\n",
    "            return solution\n",
    "        elif s==3:\n",
    "            k0=-1*smp.sqrt(self.k0_squared)\n",
    "            deq1=smp.Eq(self.u(self.x).diff(self.x,2),-k0**2*self.u(self.x))\n",
    "            solution1=smp.dsolve(deq1,self.u(self.x))\n",
    "            deq2=smp.Eq(self.u(self.x).diff(self.x,2),-k0**2*self.u(self.x))\n",
    "            solution2=smp.dsolve(deq1,self.u(self.x),ics={self.u(0):0})\n",
    "            solution=display(solution1,solution2)\n",
    "            return solution\n",
    "        else:\n",
    "            return \"Πρέπει να επιλεγεί είτε s=1 για την απάντηση του 1α), είτε s=2 για την απάντηση του 1β), είτε s=3 για την απάντηση του 1γ)\"\n",
    "    ##############################\n",
    "      ####Για το Eρ΄ώτημα 2α)####   \n",
    "    ##############################\n",
    "    def question_2a(self,s):\n",
    "        if s==1:\n",
    "            def u(x,L,B,k0):\n",
    "                return B*smp.sin(k0*x)\n",
    "            eq=smp.Eq(u(self.L,self.L,self.B,self.k0_symbol),0)\n",
    "            solution=smp.solve(eq,self.k0_symbol)\n",
    "            return solution\n",
    "        elif s==2:\n",
    "            def u(x,B,k0):\n",
    "                return B*smp.sin(k0*x)\n",
    "            eq=smp.Eq(u(self.L,self.B,self.k0_symbol),0)\n",
    "            solution=smp.solveset(eq,self.k0_symbol)\n",
    "            return solution\n",
    "        else:\n",
    "            return \"Για την απάντηση του ερωτήματος 2α) πρέπει αναγκαστικά να επιλεγεί s=1 για την επίλυση με την χρήση solve ή s=2 για την επίλυση με solveset\"\n",
    "    ################################\n",
    "    ####Για τα Eρωτήματα 2β),2γ)####   \n",
    "    ################################\n",
    "    def question_2bc(self,s):\n",
    "        if s==1:\n",
    "            un=smp.Function(\"u_n\")(self.x)\n",
    "            En=smp.symbols(\"E_n\")\n",
    "            def u(x,B,n,L):\n",
    "                return B*smp.sin(n*smp.pi*x/L)\n",
    "            def Energy(n,L,m):\n",
    "                return (n**2*smp.pi**2*self.hbar**2)/(2*m*self.L**2)\n",
    "            eq1=smp.Eq(un,u(self.x,self.B,self.n,self.L))\n",
    "            eq2=smp.Eq(En,Energy(self.n,self.L,self.mass))\n",
    "            solution=display(eq1,eq2)   \n",
    "            return solution\n",
    "        elif s==2:\n",
    "            def u(x):\n",
    "                return self.B**2*smp.sin(self.n*smp.pi*x/self.L)**2\n",
    "            int_value=smp.integrate(u(self.x),(self.x,0,self.L))\n",
    "            eq=smp.Eq(int_value,1)\n",
    "            solution=smp.solveset(eq,self.B)\n",
    "            return solution\n",
    "        else:\n",
    "            return \"Πρέπει να επιλεγεί είτε s=1 για την απάντηση του 2β) είτε s=2 για την απάντηση του 2γ)\"\n",
    "    ##############################\n",
    "      ####Για το Eρ΄ώτημα 2δ)####   \n",
    "    ##############################\n",
    "    def finalform(self,n_values):\n",
    "            def u(x,n,L):\n",
    "                return smp.sqrt(2/L)*smp.sin(n*smp.pi*x/L)\n",
    "            def Energy(n,L,m):\n",
    "                return (n**2*smp.pi**2*self.hbar**2)/(2*m*self.L**2)    \n",
    "            for i in range (1,n_values+1):\n",
    "                un=smp.Function(f\"u_{i}\")(self.x)\n",
    "                En=smp.symbols(f\"E_{i}\")\n",
    "                eq1=smp.Eq(un,u(self.x,i,self.L))\n",
    "                eq2=smp.Eq(En,Energy(i,self.L,self.mass))\n",
    "                display(eq1,eq2)       \n",
    "            for i in range(1,n_values+1):\n",
    "                un1=smp.Function(f\"u_{i}\")(self.x)  \n",
    "                for j in range(1,n_values+1):\n",
    "                    un2=smp.Function(f\"u_{j}\")(self.x)\n",
    "                    I=smp.symbols(f\"I_{i}{j}\")\n",
    "                    print(f\"Ολοκλήρωση μεταξύ του {un1} και {un2}\")\n",
    "                    int_value=smp.integrate(u(self.x,i,self.L)*u(self.x,j,self.L),(self.x,0,self.L))\n",
    "                    eq=smp.Eq(I,int_value)\n",
    "                    display(eq)\n",
    "            return \n",
    "    def basis(self):\n",
    "        def u(x,n,L):\n",
    "            return smp.sqrt(2/L)*smp.sin(n*smp.pi*x/L)\n",
    "        int_value=smp.integrate(u(self.x,self.n,self.L)*u(self.x,self.m,self.L),(self.x,0,self.L))\n",
    "        solution=display(int_value)\n",
    "        return solution"
   ]
  },
  {
   "cell_type": "markdown",
   "id": "eda567dc-17f8-493a-84e1-97f245d8d8b5",
   "metadata": {},
   "source": [
    "Έχοντας πλέον δημιουργήσει την κλάση, στην συνέχεια:"
   ]
  },
  {
   "cell_type": "code",
   "execution_count": 11,
   "id": "f037dbd5-03de-4d78-a468-de6a2375ff1b",
   "metadata": {},
   "outputs": [],
   "source": [
    "particle=SquareWell()"
   ]
  },
  {
   "cell_type": "markdown",
   "id": "3b33349f-d869-47fb-a21c-3fdc36cc130d",
   "metadata": {},
   "source": [
    "Πλέον το μόνο που χρειάζεται να κάνουμε, είναι κάθε φορά να καλούμε την μέθοδο που αντιστοιχεί στο εκάστοτε ερώτημα. Παρακάτω λοιπόν παρουσιάζονται όλες οι απαντήσεις στα ερωτήματα της άσκησης."
   ]
  },
  {
   "cell_type": "markdown",
   "id": "239d2273-2b6f-4c2a-a42e-0a93ae648551",
   "metadata": {},
   "source": [
    "## Ερώτηση 1α)\n",
    "Για την επίλυση της διαφορικής εξίσωσης:\n",
    "$$\\begin{matrix}\n",
    "u^{''}(x)+k^2_0u(x)=0, & k^2_0=\\frac{2mE}{\\hbar^2} & \n",
    "\\end{matrix}$$\n",
    "όπου $Ε>0$ και $k_0>0$ χωρίς αρχικές συνθήκες, χρησιμοποιώντας την μέθοδο `question_1(self,s)`για `s=1` παίρνουμε:"
   ]
  },
  {
   "cell_type": "code",
   "execution_count": 14,
   "id": "da175075-7118-406d-8920-b1fa934d801b",
   "metadata": {},
   "outputs": [
    {
     "name": "stdout",
     "output_type": "stream",
     "text": [
      "Η λύση της διαφορικής εξίσωσης είναι:\n"
     ]
    },
    {
     "data": {
      "text/latex": [
       "$\\displaystyle u{\\left(x \\right)} = C_{1} \\sin{\\left(\\frac{\\sqrt{2} \\sqrt{E} \\sqrt{m} x}{\\hbar} \\right)} + C_{2} \\cos{\\left(\\frac{\\sqrt{2} \\sqrt{E} \\sqrt{m} x}{\\hbar} \\right)}$"
      ],
      "text/plain": [
       "Eq(u(x), C1*sin(sqrt(2)*sqrt(E)*sqrt(m)*x/hbar) + C2*cos(sqrt(2)*sqrt(E)*sqrt(m)*x/hbar))"
      ]
     },
     "execution_count": 14,
     "metadata": {},
     "output_type": "execute_result"
    }
   ],
   "source": [
    "print('Η λύση της διαφορικής εξίσωσης είναι:')\n",
    "particle.question_1(1)"
   ]
  },
  {
   "cell_type": "markdown",
   "id": "68cea1b5-a984-4b58-927d-1f39c94338e7",
   "metadata": {},
   "source": [
    "H παραπάνω λύση είναι της μορφής:\n",
    "$$\\begin{matrix}\n",
    "u(x)=Acos(k_0x)+Bsin(k_{0}x)&(1)\n",
    "\\end{matrix}$$\n",
    "όπου:\n",
    "$$\\begin{matrix}\n",
    "k_{0}^2=\\frac{2mE}{\\hbar^2}\\Rightarrow k_{0}=\\frac{\\sqrt{2mE}}{\\hbar}\n",
    "\\end{matrix}$$"
   ]
  },
  {
   "cell_type": "markdown",
   "id": "d92c570c-8269-4e43-b25f-f192e7a0211d",
   "metadata": {},
   "source": [
    "## Ερώτηση 1β)\n",
    "Επόμενο βήμα είναι να βάλουμε την πρώτη απο τις δύο αρχικές συνθήκες, η οποία είναι η: $u(0)=0$. Χρησιμοποιώντας την μέθοδο `question_1(self,s)`για `s=2` παίρνουμε:"
   ]
  },
  {
   "cell_type": "code",
   "execution_count": 17,
   "id": "6a294830-2052-4e5b-b08f-aacfabd1aa2a",
   "metadata": {},
   "outputs": [
    {
     "name": "stdout",
     "output_type": "stream",
     "text": [
      "Η λύση της διαφορικής εξίσωσης εφαρμόζοντας την αρχική συνθήκη u(0)=0: είναι:\n"
     ]
    },
    {
     "data": {
      "text/latex": [
       "$\\displaystyle u{\\left(x \\right)} = C_{1} \\sin{\\left(\\frac{\\sqrt{2} \\sqrt{E} \\sqrt{m} x}{\\hbar} \\right)}$"
      ],
      "text/plain": [
       "Eq(u(x), C1*sin(sqrt(2)*sqrt(E)*sqrt(m)*x/hbar))"
      ]
     },
     "execution_count": 17,
     "metadata": {},
     "output_type": "execute_result"
    }
   ],
   "source": [
    "print('Η λύση της διαφορικής εξίσωσης εφαρμόζοντας την αρχική συνθήκη u(0)=0: είναι:')\n",
    "particle.question_1(2)"
   ]
  },
  {
   "cell_type": "markdown",
   "id": "d3137990-44f9-465d-9fdc-f707f78a64b1",
   "metadata": {},
   "source": [
    "Η παραπάνω λύση είναι αυτή που περιμέναμε δεδομένου ότι εφαρμόζοντας την αρχική συνθήκη  $u(0)=0$ στην σχέση $(1)$ παίρνουμε:\n",
    "$$\\begin{matrix}\n",
    "u(0)=0\\Rightarrow Bsin(0)+Acos(0)=0\\Rightarrow \\boxed{A=0}\n",
    "\\end{matrix}$$\n",
    "και άρα:\n",
    "$$\\begin{matrix}\n",
    "u(x)=Bsin(k_{0}x),&k_{0}=\\frac{\\sqrt{2mE}}{\\hbar}&(2)\n",
    "\\end{matrix}$$"
   ]
  },
  {
   "cell_type": "markdown",
   "id": "780a648c-9bb7-4474-916c-03f395d94819",
   "metadata": {},
   "source": [
    "## Ερώτηση 1γ)\n",
    "Για το συγκεκριμένο ερώτημα εφαρμόζουμε την μέθοδο `question_1(self,s)`για `s=3` προκειμένου να λύσουμε την διαφορική εξίσωση χωρίς αλλα και με την αρχική συνθήκη $u(0)=0$ για $k_{0}<0$. Το τελικό αποτέλεσμα παρουσιάζεται παρακάτω:"
   ]
  },
  {
   "cell_type": "code",
   "execution_count": 20,
   "id": "b7d2f9f6-900f-481f-9481-72824d5d6b32",
   "metadata": {},
   "outputs": [
    {
     "name": "stdout",
     "output_type": "stream",
     "text": [
      "Η λύση της διαφορικής εξίσωσης χωρίς αλλα και με αρχική συνθήκη u(0)=0 για k0<0 είναι αντίστοιχα:\n"
     ]
    },
    {
     "data": {
      "text/latex": [
       "$\\displaystyle u{\\left(x \\right)} = C_{1} \\sin{\\left(\\frac{\\sqrt{2} \\sqrt{E} \\sqrt{m} x}{\\hbar} \\right)} + C_{2} \\cos{\\left(\\frac{\\sqrt{2} \\sqrt{E} \\sqrt{m} x}{\\hbar} \\right)}$"
      ],
      "text/plain": [
       "Eq(u(x), C1*sin(sqrt(2)*sqrt(E)*sqrt(m)*x/hbar) + C2*cos(sqrt(2)*sqrt(E)*sqrt(m)*x/hbar))"
      ]
     },
     "metadata": {},
     "output_type": "display_data"
    },
    {
     "data": {
      "text/latex": [
       "$\\displaystyle u{\\left(x \\right)} = C_{1} \\sin{\\left(\\frac{\\sqrt{2} \\sqrt{E} \\sqrt{m} x}{\\hbar} \\right)}$"
      ],
      "text/plain": [
       "Eq(u(x), C1*sin(sqrt(2)*sqrt(E)*sqrt(m)*x/hbar))"
      ]
     },
     "metadata": {},
     "output_type": "display_data"
    }
   ],
   "source": [
    "print('Η λύση της διαφορικής εξίσωσης χωρίς αλλα και με αρχική συνθήκη u(0)=0 για k0<0 είναι αντίστοιχα:')\n",
    "particle.question_1(3)"
   ]
  },
  {
   "cell_type": "markdown",
   "id": "44aa6f32-70d1-41a5-98c1-515611be9d40",
   "metadata": {},
   "source": [
    "Βλέπουμε οτι οι λύσεις τις οποίες παίρνουμε είναι ακριβώς οι ίδιες με αυτές των δύο προηγούμενων ερωτημάτων. Ο λόγος είναι ότι στην διαφορική εξίσωση το $k_0$ είναι τετραγωνισμένο γεγονός που οδηγεί πρακτικά στην επίλυση της ίδιας διαφορικής εξίσωσης. Συγκεκριμένα:\n",
    "$$\\begin{matrix}\n",
    " k_{0}=-\\frac{\\sqrt{2mE}}{\\hbar}\\Rightarrow k_{0}^2=\\frac{2mE}{\\hbar^2}\n",
    "\\end{matrix}$$\n",
    "Επίσης να σημειωθεί ότι είναι και η μοναδική επιλογή την οποία έχουμε προκειμένου να ορίσουμε το $k_{0}$ αρνητικό, δεδομένου ότι η ενέργεια στο πρόβλημα του απειρόβαθμου πηγαδιού είναι μονίμως θετική."
   ]
  },
  {
   "cell_type": "markdown",
   "id": "6eb56f6f-2ca6-4fbf-972f-f9447f18958e",
   "metadata": {},
   "source": [
    "## Ερώτηση 2α)"
   ]
  },
  {
   "cell_type": "markdown",
   "id": "a342a87d-9dd7-4dc7-94aa-3d84b73d53bf",
   "metadata": {},
   "source": [
    "Τώρα, εφαρμόζουμε την δεύτερη οριακή συνθήκη δηλαδή την $u(L)=0$. Αρχικά με την χρήση της μεθόδου `question_2a(self,s)` με `s=1`, θα επιλύσουμε την εξίσωση που προκύπτει με την μέθοδο της `solve` της `SymPy`. Το αποτέλεσμα παρουσιάζεται παρακάτω:"
   ]
  },
  {
   "cell_type": "code",
   "execution_count": 24,
   "id": "b5a22944-c423-4b37-bf0f-2b3e9e7101ce",
   "metadata": {},
   "outputs": [
    {
     "name": "stdout",
     "output_type": "stream",
     "text": [
      "Η επίλυση της εξίσωσης u(L)=0 με την χρήση της solve δίνει το αποτέλεσμα:\n"
     ]
    },
    {
     "data": {
      "text/plain": [
       "[pi/L]"
      ]
     },
     "execution_count": 24,
     "metadata": {},
     "output_type": "execute_result"
    }
   ],
   "source": [
    "print('Η επίλυση της εξίσωσης u(L)=0 με την χρήση της solve δίνει το αποτέλεσμα:')\n",
    "particle.question_2a(1)"
   ]
  },
  {
   "cell_type": "markdown",
   "id": "e0b18d53-cbae-4a09-948a-99a2ff47bee6",
   "metadata": {},
   "source": [
    "Με την χρήση της ίδιας μεθόδου με πρίν αλλά για `s=2` θα επιλυθεί η ίδια εξίσωση αλλά χρησιμοποιώντας αυτήν την φορά την εντολή `solveset` της `Sympy`. Το αποτέλεσμα παρουσιάζεται παρακάτω:"
   ]
  },
  {
   "cell_type": "code",
   "execution_count": 26,
   "id": "756481b3-8334-4b14-a16e-74a38bcd0ea0",
   "metadata": {},
   "outputs": [
    {
     "name": "stdout",
     "output_type": "stream",
     "text": [
      "Η επίλυση της εξίσωσης u(L)=0 με την χρήση της solveset δίνει το αποτέλεσμα:\n"
     ]
    },
    {
     "data": {
      "text/latex": [
       "$\\displaystyle \\left\\{\\frac{2 n \\pi}{L}\\; \\middle|\\; n \\in \\mathbb{Z}\\right\\} \\cup \\left\\{\\frac{2 n \\pi + \\pi}{L}\\; \\middle|\\; n \\in \\mathbb{Z}\\right\\}$"
      ],
      "text/plain": [
       "Union(ImageSet(Lambda(_n, (2*_n*pi + pi)/L), Integers), ImageSet(Lambda(_n, 2*_n*pi/L), Integers))"
      ]
     },
     "execution_count": 26,
     "metadata": {},
     "output_type": "execute_result"
    }
   ],
   "source": [
    "print('Η επίλυση της εξίσωσης u(L)=0 με την χρήση της solveset δίνει το αποτέλεσμα:')\n",
    "particle.question_2a(2)"
   ]
  },
  {
   "cell_type": "markdown",
   "id": "2273b3ed-4532-4bdb-a4f8-984f20ad06f9",
   "metadata": {},
   "source": [
    "Δεδομένου ότι κάνουμε μελέτη του συστήματος, χρειαζόμαστε και μας ενδιαφέρει εν τέλει το σύνολο των δυνατών τιμών που μπορεί να πάρει το $k_0$. Απο τις δύο εντολές αυτό μπορεί να επιτευχθεί με την χρήση της `solveset()`. H `solve()` δίνει σωστό αποτέλεσμα, αλλά μόνο για $n=1$. Έχοντας λοιπόν ως κύριο στόχο την γνώση του συνόλου των δυνατών τιμών της $k_0$, η χρήση της `solveset` είναι η κατάλληλη επιλογή/εντολή.Να σημειωθεί ότι η `solve()` δίνει κανονικά λύση για $n=1$ αλλα και για $n=0$ όπως και η `solveset()` δίνει το σύνολο των δυνατών λύσεων της εξίσωσης $sin(k_{0}L)=0$ αλλά για όλους τους ακεραίους. Αυτό οφείλεται στο γεγονός ότι τόσο η `solve()` όσο και η `solveset()` λύνουν την εξίσωση ως προς $k_0$, όπως και τους ζητήθηκε, ως σαν να είναι απλώς μια μαθηματική εξίσωση και μόνο, χωρίς καμία φυσική σημασία ενώ για το συγκεκριμένο σύστημα θα πρέπει $n=1,2,...$"
   ]
  },
  {
   "cell_type": "markdown",
   "id": "393e28a0-a457-464e-917c-812b587c51af",
   "metadata": {},
   "source": [
    "## Ερώτηση 2β)\n",
    "Η γενική μορφή της κυματοσυνάρτησης καθώς και την ενέργειας δίνεται χρησιμοποιώντας την μέθοδο της κλάσης `question_2bc(self,s)` για `s=1`. Το αποτέλεσμα παρουσιάζεται παρακάτω."
   ]
  },
  {
   "cell_type": "code",
   "execution_count": 29,
   "id": "b46d5d0c-d04a-4000-8bc1-0ee1efaa46a8",
   "metadata": {},
   "outputs": [
    {
     "name": "stdout",
     "output_type": "stream",
     "text": [
      "Η γενική μορφή της un(x) και της ενέργεις En είναι:\n"
     ]
    },
    {
     "data": {
      "text/latex": [
       "$\\displaystyle u_{n}{\\left(x \\right)} = B \\sin{\\left(\\frac{\\pi n x}{L} \\right)}$"
      ],
      "text/plain": [
       "Eq(u_n(x), B*sin(pi*n*x/L))"
      ]
     },
     "metadata": {},
     "output_type": "display_data"
    },
    {
     "data": {
      "text/latex": [
       "$\\displaystyle E_{n} = \\frac{\\pi^{2} \\hbar^{2} n^{2}}{2 L^{2} m}$"
      ],
      "text/plain": [
       "Eq(E_n, pi**2*hbar**2*n**2/(2*L**2*m))"
      ]
     },
     "metadata": {},
     "output_type": "display_data"
    }
   ],
   "source": [
    "print('Η γενική μορφή της un(x) και της ενέργεις En είναι:')\n",
    "particle.question_2bc(1)"
   ]
  },
  {
   "cell_type": "markdown",
   "id": "c0775102-8181-4888-b0eb-000625389e98",
   "metadata": {},
   "source": [
    "## Ερώτηση 2γ)\n",
    "Η επίλυση του ζητούμενου ολοκληρώματος, δηλαδή η κανονικοποίηση της κυματοσυνάρτησης γίνεται με την βοήθεια της ίδιας μεθόδου απλά αυτή την φορά θέτουμε `s=2`."
   ]
  },
  {
   "cell_type": "code",
   "execution_count": 31,
   "id": "b681cc99-8a1d-4c45-8d09-d46b8129b276",
   "metadata": {},
   "outputs": [
    {
     "name": "stdout",
     "output_type": "stream",
     "text": [
      "Η σταθερά Β παίρνει τις τιμές:\n"
     ]
    },
    {
     "data": {
      "text/latex": [
       "$\\displaystyle \\left\\{- \\frac{\\sqrt{2}}{\\sqrt{L}}, \\frac{\\sqrt{2}}{\\sqrt{L}}\\right\\}$"
      ],
      "text/plain": [
       "{-sqrt(2)/sqrt(L), sqrt(2)/sqrt(L)}"
      ]
     },
     "execution_count": 31,
     "metadata": {},
     "output_type": "execute_result"
    }
   ],
   "source": [
    "print('Η σταθερά Β παίρνει τις τιμές:')\n",
    "particle.question_2bc(2)"
   ]
  },
  {
   "cell_type": "markdown",
   "id": "f34a286a-5f3a-4ca1-8486-79e208613b4c",
   "metadata": {},
   "source": [
    "## Ερώτηση 2δ)\n",
    "Επιλέγοντας την τιμή $B=\\sqrt{2/L}$, προκύπτει και η τελική μορφή της κυματοσυνάρτησης $u_n$. Για να αποδείξουμε ότι οι κυματοσυναρτήσεις αποτελούν μια ορθοκανονική βάση, αρκή να αποδείξουμε:\n",
    "$$\\begin{matrix}\n",
    "I=\\int^L_0 u_{n}(x)u_{m}(x)dx=δ_{nm}\n",
    "\\end{matrix}$$\n",
    "με\n",
    "$$\\begin{matrix}\n",
    "u_{n}(x)=\\sqrt{\\frac{2}{L}}sin(\\frac{n\\pi x}{L})\n",
    "\\end{matrix}$$\n",
    "Αρχικά χρησιμοποιείται η μέθοδος `finalform(self,n)` όπου σαν αποτέλεσμα παίρνουμε το σύνολο των τελικών μορφών της $u_n(x)$ και της $E_n$ καθώς και το σύνολο όλων των πιθανών συνδυασμών του γινομένου $u_n(x)\\cdot u_m(x)$ προκειμένου να δείξουμε με πρακτικό τρόπο και με την χρήση των κυματοσυναρτήσεων που προκύπτουν για δεδομένο $n$, ότι το σύνολο των $u_n(x)$ συνιστούν μια ορθοκανονική βάση. Τέλος σε σχέση με την μέθοδο καθ'αυτήν, ως $n$ τοποθετούμε το σύνολο των κυματοσυναρτήσεων και ενεργειών που θέλουμε, δηλαδή για την συγκεκριμένη ερώτηση που θέλουμε τις πρώτες 4 βάζουμε $n=4$. Τα αποτελέσματα παρουσιάζονται παρακάτω."
   ]
  },
  {
   "cell_type": "code",
   "execution_count": 33,
   "id": "65861d84-c96f-48c3-9cac-d850cc2a85a9",
   "metadata": {},
   "outputs": [
    {
     "data": {
      "text/latex": [
       "$\\displaystyle u_{1}{\\left(x \\right)} = \\frac{\\sqrt{2} \\sin{\\left(\\frac{\\pi x}{L} \\right)}}{\\sqrt{L}}$"
      ],
      "text/plain": [
       "Eq(u_1(x), sqrt(2)*sin(pi*x/L)/sqrt(L))"
      ]
     },
     "metadata": {},
     "output_type": "display_data"
    },
    {
     "data": {
      "text/latex": [
       "$\\displaystyle E_{1} = \\frac{\\pi^{2} \\hbar^{2}}{2 L^{2} m}$"
      ],
      "text/plain": [
       "Eq(E_1, pi**2*hbar**2/(2*L**2*m))"
      ]
     },
     "metadata": {},
     "output_type": "display_data"
    },
    {
     "data": {
      "text/latex": [
       "$\\displaystyle u_{2}{\\left(x \\right)} = \\frac{\\sqrt{2} \\sin{\\left(\\frac{2 \\pi x}{L} \\right)}}{\\sqrt{L}}$"
      ],
      "text/plain": [
       "Eq(u_2(x), sqrt(2)*sin(2*pi*x/L)/sqrt(L))"
      ]
     },
     "metadata": {},
     "output_type": "display_data"
    },
    {
     "data": {
      "text/latex": [
       "$\\displaystyle E_{2} = \\frac{2 \\pi^{2} \\hbar^{2}}{L^{2} m}$"
      ],
      "text/plain": [
       "Eq(E_2, 2*pi**2*hbar**2/(L**2*m))"
      ]
     },
     "metadata": {},
     "output_type": "display_data"
    },
    {
     "data": {
      "text/latex": [
       "$\\displaystyle u_{3}{\\left(x \\right)} = \\frac{\\sqrt{2} \\sin{\\left(\\frac{3 \\pi x}{L} \\right)}}{\\sqrt{L}}$"
      ],
      "text/plain": [
       "Eq(u_3(x), sqrt(2)*sin(3*pi*x/L)/sqrt(L))"
      ]
     },
     "metadata": {},
     "output_type": "display_data"
    },
    {
     "data": {
      "text/latex": [
       "$\\displaystyle E_{3} = \\frac{9 \\pi^{2} \\hbar^{2}}{2 L^{2} m}$"
      ],
      "text/plain": [
       "Eq(E_3, 9*pi**2*hbar**2/(2*L**2*m))"
      ]
     },
     "metadata": {},
     "output_type": "display_data"
    },
    {
     "data": {
      "text/latex": [
       "$\\displaystyle u_{4}{\\left(x \\right)} = \\frac{\\sqrt{2} \\sin{\\left(\\frac{4 \\pi x}{L} \\right)}}{\\sqrt{L}}$"
      ],
      "text/plain": [
       "Eq(u_4(x), sqrt(2)*sin(4*pi*x/L)/sqrt(L))"
      ]
     },
     "metadata": {},
     "output_type": "display_data"
    },
    {
     "data": {
      "text/latex": [
       "$\\displaystyle E_{4} = \\frac{8 \\pi^{2} \\hbar^{2}}{L^{2} m}$"
      ],
      "text/plain": [
       "Eq(E_4, 8*pi**2*hbar**2/(L**2*m))"
      ]
     },
     "metadata": {},
     "output_type": "display_data"
    },
    {
     "name": "stdout",
     "output_type": "stream",
     "text": [
      "Ολοκλήρωση μεταξύ του u_1(x) και u_1(x)\n"
     ]
    },
    {
     "data": {
      "text/latex": [
       "$\\displaystyle I_{11} = 1$"
      ],
      "text/plain": [
       "Eq(I_11, 1)"
      ]
     },
     "metadata": {},
     "output_type": "display_data"
    },
    {
     "name": "stdout",
     "output_type": "stream",
     "text": [
      "Ολοκλήρωση μεταξύ του u_1(x) και u_2(x)\n"
     ]
    },
    {
     "data": {
      "text/latex": [
       "$\\displaystyle I_{12} = 0$"
      ],
      "text/plain": [
       "Eq(I_12, 0)"
      ]
     },
     "metadata": {},
     "output_type": "display_data"
    },
    {
     "name": "stdout",
     "output_type": "stream",
     "text": [
      "Ολοκλήρωση μεταξύ του u_1(x) και u_3(x)\n"
     ]
    },
    {
     "data": {
      "text/latex": [
       "$\\displaystyle I_{13} = 0$"
      ],
      "text/plain": [
       "Eq(I_13, 0)"
      ]
     },
     "metadata": {},
     "output_type": "display_data"
    },
    {
     "name": "stdout",
     "output_type": "stream",
     "text": [
      "Ολοκλήρωση μεταξύ του u_1(x) και u_4(x)\n"
     ]
    },
    {
     "data": {
      "text/latex": [
       "$\\displaystyle I_{14} = 0$"
      ],
      "text/plain": [
       "Eq(I_14, 0)"
      ]
     },
     "metadata": {},
     "output_type": "display_data"
    },
    {
     "name": "stdout",
     "output_type": "stream",
     "text": [
      "Ολοκλήρωση μεταξύ του u_2(x) και u_1(x)\n"
     ]
    },
    {
     "data": {
      "text/latex": [
       "$\\displaystyle I_{21} = 0$"
      ],
      "text/plain": [
       "Eq(I_21, 0)"
      ]
     },
     "metadata": {},
     "output_type": "display_data"
    },
    {
     "name": "stdout",
     "output_type": "stream",
     "text": [
      "Ολοκλήρωση μεταξύ του u_2(x) και u_2(x)\n"
     ]
    },
    {
     "data": {
      "text/latex": [
       "$\\displaystyle I_{22} = 1$"
      ],
      "text/plain": [
       "Eq(I_22, 1)"
      ]
     },
     "metadata": {},
     "output_type": "display_data"
    },
    {
     "name": "stdout",
     "output_type": "stream",
     "text": [
      "Ολοκλήρωση μεταξύ του u_2(x) και u_3(x)\n"
     ]
    },
    {
     "data": {
      "text/latex": [
       "$\\displaystyle I_{23} = 0$"
      ],
      "text/plain": [
       "Eq(I_23, 0)"
      ]
     },
     "metadata": {},
     "output_type": "display_data"
    },
    {
     "name": "stdout",
     "output_type": "stream",
     "text": [
      "Ολοκλήρωση μεταξύ του u_2(x) και u_4(x)\n"
     ]
    },
    {
     "data": {
      "text/latex": [
       "$\\displaystyle I_{24} = 0$"
      ],
      "text/plain": [
       "Eq(I_24, 0)"
      ]
     },
     "metadata": {},
     "output_type": "display_data"
    },
    {
     "name": "stdout",
     "output_type": "stream",
     "text": [
      "Ολοκλήρωση μεταξύ του u_3(x) και u_1(x)\n"
     ]
    },
    {
     "data": {
      "text/latex": [
       "$\\displaystyle I_{31} = 0$"
      ],
      "text/plain": [
       "Eq(I_31, 0)"
      ]
     },
     "metadata": {},
     "output_type": "display_data"
    },
    {
     "name": "stdout",
     "output_type": "stream",
     "text": [
      "Ολοκλήρωση μεταξύ του u_3(x) και u_2(x)\n"
     ]
    },
    {
     "data": {
      "text/latex": [
       "$\\displaystyle I_{32} = 0$"
      ],
      "text/plain": [
       "Eq(I_32, 0)"
      ]
     },
     "metadata": {},
     "output_type": "display_data"
    },
    {
     "name": "stdout",
     "output_type": "stream",
     "text": [
      "Ολοκλήρωση μεταξύ του u_3(x) και u_3(x)\n"
     ]
    },
    {
     "data": {
      "text/latex": [
       "$\\displaystyle I_{33} = 1$"
      ],
      "text/plain": [
       "Eq(I_33, 1)"
      ]
     },
     "metadata": {},
     "output_type": "display_data"
    },
    {
     "name": "stdout",
     "output_type": "stream",
     "text": [
      "Ολοκλήρωση μεταξύ του u_3(x) και u_4(x)\n"
     ]
    },
    {
     "data": {
      "text/latex": [
       "$\\displaystyle I_{34} = 0$"
      ],
      "text/plain": [
       "Eq(I_34, 0)"
      ]
     },
     "metadata": {},
     "output_type": "display_data"
    },
    {
     "name": "stdout",
     "output_type": "stream",
     "text": [
      "Ολοκλήρωση μεταξύ του u_4(x) και u_1(x)\n"
     ]
    },
    {
     "data": {
      "text/latex": [
       "$\\displaystyle I_{41} = 0$"
      ],
      "text/plain": [
       "Eq(I_41, 0)"
      ]
     },
     "metadata": {},
     "output_type": "display_data"
    },
    {
     "name": "stdout",
     "output_type": "stream",
     "text": [
      "Ολοκλήρωση μεταξύ του u_4(x) και u_2(x)\n"
     ]
    },
    {
     "data": {
      "text/latex": [
       "$\\displaystyle I_{42} = 0$"
      ],
      "text/plain": [
       "Eq(I_42, 0)"
      ]
     },
     "metadata": {},
     "output_type": "display_data"
    },
    {
     "name": "stdout",
     "output_type": "stream",
     "text": [
      "Ολοκλήρωση μεταξύ του u_4(x) και u_3(x)\n"
     ]
    },
    {
     "data": {
      "text/latex": [
       "$\\displaystyle I_{43} = 0$"
      ],
      "text/plain": [
       "Eq(I_43, 0)"
      ]
     },
     "metadata": {},
     "output_type": "display_data"
    },
    {
     "name": "stdout",
     "output_type": "stream",
     "text": [
      "Ολοκλήρωση μεταξύ του u_4(x) και u_4(x)\n"
     ]
    },
    {
     "data": {
      "text/latex": [
       "$\\displaystyle I_{44} = 1$"
      ],
      "text/plain": [
       "Eq(I_44, 1)"
      ]
     },
     "metadata": {},
     "output_type": "display_data"
    }
   ],
   "source": [
    "particle.finalform(4)"
   ]
  },
  {
   "cell_type": "markdown",
   "id": "81f59843-ed8a-449a-b14f-02cc5fe818ee",
   "metadata": {},
   "source": [
    "Γενικότερα την ορθοκανονικότητα των κυματοσυναρτήσεων $u_n(x)$ μπορούμε να την αποδείξουμε $\\forall n,m$. Αυτό γίνεται με την βοήθεια της μεθόδου `basis()`. Χρησιμοποιώντας την παίρνουμε:"
   ]
  },
  {
   "cell_type": "code",
   "execution_count": 35,
   "id": "7e07a265-1103-49d8-b2ef-ab36a9feed5c",
   "metadata": {},
   "outputs": [
    {
     "data": {
      "text/latex": [
       "$\\displaystyle \\begin{cases} 0 & \\text{for}\\: m \\neq n \\\\1 & \\text{otherwise} \\end{cases}$"
      ],
      "text/plain": [
       "Piecewise((0, Ne(m, n)), (1, True))"
      ]
     },
     "metadata": {},
     "output_type": "display_data"
    }
   ],
   "source": [
    "particle.basis()"
   ]
  },
  {
   "cell_type": "markdown",
   "id": "25e59c5c-00d6-499a-9540-5ab7b7160877",
   "metadata": {},
   "source": [
    "Έτσι αποδεικνύεται ότι:\n",
    "$$\\begin{matrix}\n",
    "I=\\int^L_0 u_{n}(x)u_{m}(x)dx=δ_{nm}=\\begin{cases}0,&n\\neq m\\\\1,&n=m\\end{cases}\n",
    "\\end{matrix}$$\n",
    "κάτι το οποίο προέκυψε και απο την `finalform()`, απλά εδώ για κάθε πιθανό συνδυασμό $n,m$."
   ]
  }
 ],
 "metadata": {
  "kernelspec": {
   "display_name": "Python [conda env:base] *",
   "language": "python",
   "name": "conda-base-py"
  },
  "language_info": {
   "codemirror_mode": {
    "name": "ipython",
    "version": 3
   },
   "file_extension": ".py",
   "mimetype": "text/x-python",
   "name": "python",
   "nbconvert_exporter": "python",
   "pygments_lexer": "ipython3",
   "version": "3.12.3"
  }
 },
 "nbformat": 4,
 "nbformat_minor": 5
}
