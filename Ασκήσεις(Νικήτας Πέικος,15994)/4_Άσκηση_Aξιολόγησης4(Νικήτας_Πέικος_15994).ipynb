{
 "cells": [
  {
   "cell_type": "markdown",
   "metadata": {},
   "source": [
    "## **ΥΠΟΛΟΓΙΣΤΙΚΗ ΕΡΓΑΣΙΑ IV: Χρονική εξέλιξη μιας κατάστασης σπιν $|s\\rangle$ εντός σταθερού μαγνητικού πεδίου**\n",
    "\n",
    "Θεωρήστε ένα κβαντικό σωματίδιο με αρχική κατάσταση σπιν $|s \\rangle =\\frac{1}{\\sqrt{2}}\\begin{bmatrix} 1 \\\\ 1\\end{bmatrix}$ τη χρονική στιγμή $t=0$. Στο σωματίδιο εφαρμόζεται εξωτερικό σταθερό μαγνητικό πεδίο, παράλληλο προς τον άξονα z: $\\vec{B}//\\vec{e_z}$. Χρησιμοποιώντας τις δυνατότητες γραμμικής άλγεβρας της `SymPy`, ολοκληρώστε τις ακόλουθες ερωτήσεις.\n",
    "\n",
    "**Παρατηρήσεις/Υποδείξεις:**\n",
    "\n",
    "1. Ο γενικός τύπος του τελεστή χρονικής εξέλιξης για μια κατάσταση σπιν, όταν ένα εξωτερικό μαγνητικό πεδίο $\\vec{B}$ εφαρμόζεται είναι: $$\\hat{U}(t) = e^{-iωt(\\vec{σ}\\cdot \\vec{B})}=cos(ωt)I_{2x2}-i (\\vec{σ}\\cdot \\vec{n})sin(ωt)$$ όπου $I_{2x2}$ είναι ο $2x2$ ταυτοτικός πίνακας, $\\vec{n}=\\frac{\\vec{B}}{|\\vec{B}|}$ και $\\vec{σ}=σ_1 \\vec{e_x} + σ_2 \\vec{e_y} + σ_3 \\vec{e_z}$ (με $σ_i$, $i=1,2,3$ τους πίνακες *Pauli*).\n",
    "\n",
    "2. Η μέση τιμή $\\langle \\hat{A} \\rangle_ψ$ ενός ερμιτιανού τελεστή $\\hat{A}$, ως προς μια κβαντική κατάσταση $|ψ\\rangle$ είναι ίση με: $$\\langle\\hat{A} \\rangle_ψ = \\langle ψ|\\hat{A}|ψ\\rangle$$\n",
    "\n",
    "3. Το διάνυσμα-τελεστής σπιν συνδέεται με το διάνυσμα-τελεστή των πινάκων Pauli μέσω της σχέσης:\n",
    "$$\\vec{s}=\\frac{\\hbar}{2}\\vec{σ}$$"
   ]
  },
  {
   "cell_type": "markdown",
   "metadata": {},
   "source": [
    "**Προετοιμασία**"
   ]
  },
  {
   "cell_type": "code",
   "execution_count": 49,
   "metadata": {},
   "outputs": [],
   "source": [
    "# Φορτώνουμε τη βιβλιοθήκη SymPy\n",
    "import sympy as smp"
   ]
  },
  {
   "cell_type": "code",
   "execution_count": 51,
   "metadata": {},
   "outputs": [
    {
     "data": {
      "text/latex": [
       "$\\displaystyle \\left[\\begin{matrix}0 & 1\\\\1 & 0\\end{matrix}\\right]$"
      ],
      "text/plain": [
       "Matrix([\n",
       "[0, 1],\n",
       "[1, 0]])"
      ]
     },
     "metadata": {},
     "output_type": "display_data"
    },
    {
     "data": {
      "text/latex": [
       "$\\displaystyle \\left[\\begin{matrix}0 & - i\\\\i & 0\\end{matrix}\\right]$"
      ],
      "text/plain": [
       "Matrix([\n",
       "[0, -I],\n",
       "[I,  0]])"
      ]
     },
     "metadata": {},
     "output_type": "display_data"
    },
    {
     "data": {
      "text/latex": [
       "$\\displaystyle \\left[\\begin{matrix}1 & 0\\\\0 & -1\\end{matrix}\\right]$"
      ],
      "text/plain": [
       "Matrix([\n",
       "[1,  0],\n",
       "[0, -1]])"
      ]
     },
     "metadata": {},
     "output_type": "display_data"
    },
    {
     "data": {
      "text/latex": [
       "$\\displaystyle \\left[\\begin{matrix}1 & 0\\\\0 & 1\\end{matrix}\\right]$"
      ],
      "text/plain": [
       "Matrix([\n",
       "[1, 0],\n",
       "[0, 1]])"
      ]
     },
     "metadata": {},
     "output_type": "display_data"
    },
    {
     "data": {
      "text/latex": [
       "$\\displaystyle \\left[\\begin{matrix}\\frac{\\sqrt{2}}{2}\\\\\\frac{\\sqrt{2}}{2}\\end{matrix}\\right]$"
      ],
      "text/plain": [
       "Matrix([\n",
       "[sqrt(2)/2],\n",
       "[sqrt(2)/2]])"
      ]
     },
     "metadata": {},
     "output_type": "display_data"
    }
   ],
   "source": [
    "# Ορισμός χρήσιμων συμβόλων\n",
    "t,omega,hbar = smp.symbols(\"t ω hbar\",positive=True)\n",
    "i = smp.I\n",
    "\n",
    "# Ορίστε τους πίνακς Pauli και εκτυπώστε τους\n",
    "sigma_1 = smp.Matrix([[0,1],[1,0]]) # στη θέση του 1 να αντικαταστήσετε την σωστή μορφή του πίνακα σ_1 = σ_x\n",
    "sigma_2 = smp.Matrix([[0,-i],[i,0]]) # στη θέση του 2 να αντικαταστήσετε την σωστή μορφή του πίνακα σ_2 = σ_y\n",
    "sigma_3 = smp.Matrix([[1,0],[0,-1]]) # στη θέση του 3 να αντικαταστήσετε την σωστή μορφή του πίνακα σ_3 = σ_z\n",
    "\n",
    "display(sigma_1)\n",
    "display(sigma_2)\n",
    "display(sigma_3)\n",
    "\n",
    "# Ορίστε τον ταυτοτικό πίνακα 2x2 και εκτυπώστε τον\n",
    "iden_2x2 = smp.Matrix([[1,0],[0,1]]) # αντί για το 4 γράψτε την σωστή μορφή\n",
    "\n",
    "display(iden_2x2)\n",
    "\n",
    "# Ορίστε την αρχική κατάσταση-spin σε μορφή πίνακα και εκτυπώστε την\n",
    "spin_init = smp.Matrix([[1/smp.sqrt(2)],[1/smp.sqrt(2)]]) # αντί για το 5 γράψτε την σωστή μορφή\n",
    "\n",
    "display(spin_init)"
   ]
  },
  {
   "cell_type": "markdown",
   "metadata": {},
   "source": [
    "**Ερώτηση 1** \n",
    "\n",
    "Δείξτε ότι ο τελεστής της χρονικής εξέλιξης $\\hat{U}(t)$ (της spin-κατάστασης του σωματιδίου) έχει την ακόλουθη μορφή μήτρας: \n",
    "$$\\begin{bmatrix} e^{-iωt} & 0 \\\\ 0 & e^{iωt}\\end{bmatrix} ή \\begin{bmatrix} cos(ωt)-isin(ωt) & 0 \\\\ 0 & cos(ωt)+isin(ωt)\\end{bmatrix}$$\n",
    "Εξηγήστε στο παρακάτω **Markdown** κελί το σκεπτικό σας για να καταλήξετε στο συγκεκριμένο αποτέλεσμα."
   ]
  },
  {
   "cell_type": "markdown",
   "metadata": {},
   "source": [
    "**Εξήγηση**\n",
    "\n",
    "Έχουμε ότι  $\\hat{U}(t)=cos(ωt)I_{2x2}-i (\\vec{σ}\\cdot \\vec{n})sin(ωt)$. Απο την εκφώνηση γνωρίζουμε ότι $\\vec{B}=B\\vec{e_z}$, $\\vec{σ}=σ_1 \\vec{e_x} + σ_2 \\vec{e_y} + σ_3 \\vec{e_z}$ και $\\vec{n}=\\frac{\\vec{B}}{|\\vec{B}|}$, που σημαίνει ότι $\\vec{σ}\\cdot \\vec{n}=σ_{3}\\frac{|B|}{|B|}\\vec{e_z}\\cdot\\vec{e_z}=σ_3=\\begin{bmatrix}1&0\\\\0&-1\\end{bmatrix}$. Επομένως θα έχουμε:\n",
    "$\\hat{U}(t)=cos(ωt)I_{2x2}-i (\\vec{σ}\\cdot \\vec{n})sin(ωt)=cos(ωt)\\begin{bmatrix}1&0\\\\0&1\\end{bmatrix}-sin(ωt)\\begin{bmatrix}1&0\\\\0&-1\\end{bmatrix}\\Rightarrow\\hat{U}(t)=\\begin{bmatrix}cos(ωt)&0\\\\0&cos(ωt)\\end{bmatrix}-i\\begin{bmatrix}sin(ωt)&0\\\\0&-sin(ωt)\\end{bmatrix}$\n",
    "\n",
    "$\\Rightarrow\\hat{U}(t)=\\begin{bmatrix} cos(ωt)-isin(ωt) & 0 \\\\ 0 & cos(ωt)+isin(ωt)\\end{bmatrix}=\\begin{bmatrix} e^{-iωt} & 0 \\\\ 0 & e^{iωt}\\end{bmatrix}$"
   ]
  },
  {
   "cell_type": "markdown",
   "metadata": {},
   "source": []
  },
  {
   "cell_type": "code",
   "execution_count": 53,
   "metadata": {},
   "outputs": [
    {
     "data": {
      "text/latex": [
       "$\\displaystyle \\left[\\begin{matrix}- i \\sin{\\left(t ω \\right)} + \\cos{\\left(t ω \\right)} & 0\\\\0 & i \\sin{\\left(t ω \\right)} + \\cos{\\left(t ω \\right)}\\end{matrix}\\right]$"
      ],
      "text/plain": [
       "Matrix([\n",
       "[-I*sin(t*ω) + cos(t*ω),                     0],\n",
       "[                     0, I*sin(t*ω) + cos(t*ω)]])"
      ]
     },
     "metadata": {},
     "output_type": "display_data"
    },
    {
     "data": {
      "text/latex": [
       "$\\displaystyle \\left[\\begin{matrix}e^{- i t ω} & 0\\\\0 & e^{i t ω}\\end{matrix}\\right]$"
      ],
      "text/plain": [
       "Matrix([\n",
       "[exp(-I*t*ω),          0],\n",
       "[          0, exp(I*t*ω)]])"
      ]
     },
     "metadata": {},
     "output_type": "display_data"
    }
   ],
   "source": [
    "# Ορισμός και εκτύπωση του τελεστή χρονικής εξέλιξης\n",
    "def U(t,ω):\n",
    "    return smp.simplify(smp.cos(ω*t)*iden_2x2-i*smp.sin(ω*t)*sigma_3)\n",
    "\n",
    "# εντός της εντολής simplify γράψτε τον σωστό τύπο του τελεστή χρονικής εξέλιξης\n",
    "#δοκιμάστε επίσης να επιστρέψετε την μορφή του τελεστή και χωρίς την εντολή simplify\n",
    "def notsimplifiedU(t,ω):\n",
    "    return smp.Matrix([[smp.cos(ω*t)-i*smp.sin(ω*t),0],[0,smp.cos(ω*t)+i*smp.sin(ω*t)]])\n",
    "display(notsimplifiedU(t,omega))    \n",
    "#####\n",
    "display(U(t,omega))"
   ]
  },
  {
   "cell_type": "markdown",
   "metadata": {},
   "source": [
    "**Ερώτηση 2** \n",
    "\n",
    "**α)** Ορίστε μια συνάρτηση που επιστρέφει τη χρονική εξέλιξη της κατάστασης σπιν του σωματιδίου $|s(t)\\rangle$ σε μορφή μήτρας και εμφανίστε τη συμβολική μορφή της $|s(t)\\rangle$.\n",
    "\n",
    "**Βοήθεια**\n",
    "\n",
    "Για να λάβουμε την χρονική εξέλιξη $|s(t)\\rangle$ της spin-κατάστασης ενός σωματιδίου, αρκεί να εφαρμόσουμε τον τελεστή $\\hat{U}(t)$, πολλαπλασιάζοντας την αρχική spin-κατάσταση $|s\\rangle$ από τα αριστερά. Δηλαδή:\n",
    "\n",
    "$$|s(t)\\rangle=\\hat{U}(t)|s\\rangle$$"
   ]
  },
  {
   "cell_type": "code",
   "execution_count": 55,
   "metadata": {},
   "outputs": [
    {
     "data": {
      "text/latex": [
       "$\\displaystyle \\left[\\begin{matrix}\\frac{\\sqrt{2} e^{- i t ω}}{2}\\\\\\frac{\\sqrt{2} e^{i t ω}}{2}\\end{matrix}\\right]$"
      ],
      "text/plain": [
       "Matrix([\n",
       "[sqrt(2)*exp(-I*t*ω)/2],\n",
       "[ sqrt(2)*exp(I*t*ω)/2]])"
      ]
     },
     "metadata": {},
     "output_type": "display_data"
    }
   ],
   "source": [
    "# Ορισμός και εκτύπωση της χρονικής εξέλιξης της spin-κατάστασης\n",
    "# του σωματιδίου\n",
    "\n",
    "def spin_t(t,ω):\n",
    "    return smp.simplify(U(t,ω)*spin_init)\n",
    "\n",
    "# εντός της εντολής simplify γράψτε τον σωστό τύπο\n",
    "# της χρονικής εξέλιξης της spin-κατάστασης\n",
    "\n",
    "display(spin_t(t,omega))"
   ]
  },
  {
   "cell_type": "markdown",
   "metadata": {},
   "source": [
    "**β)** Βρείτε την μορφή της $|s(t)\\rangle$ τη χρονική στιγμή $t=2s$, όταν $ω=\\frac{π}{3}Hz$."
   ]
  },
  {
   "cell_type": "code",
   "execution_count": 57,
   "metadata": {},
   "outputs": [
    {
     "data": {
      "text/latex": [
       "$\\displaystyle \\left[\\begin{matrix}- \\frac{\\sqrt{2}}{4} - \\frac{\\sqrt{6} i}{4}\\\\- \\frac{\\sqrt{2}}{4} + \\frac{\\sqrt{6} i}{4}\\end{matrix}\\right]$"
      ],
      "text/plain": [
       "Matrix([\n",
       "[-sqrt(2)/4 - sqrt(6)*I/4],\n",
       "[-sqrt(2)/4 + sqrt(6)*I/4]])"
      ]
     },
     "metadata": {},
     "output_type": "display_data"
    }
   ],
   "source": [
    "display(spin_t(2,smp.pi/3))"
   ]
  },
  {
   "cell_type": "markdown",
   "metadata": {},
   "source": [
    "**Ερώτηση 3** \n",
    "\n",
    "**α)** Βρείτε τη συμβολική μορφή των ακόλουθων μέσων τιμών: $\\langle \\hat{s}_x \\rangle_t$, $\\langle \\hat{s}_y \\rangle_t$ και $\\langle \\hat{s}_z \\rangle_t$, ως προς την κατάσταση σπιν $|s(t)\\rangle$. "
   ]
  },
  {
   "cell_type": "code",
   "execution_count": 59,
   "metadata": {},
   "outputs": [
    {
     "data": {
      "text/latex": [
       "$\\displaystyle \\left[\\begin{matrix}0 & 0.5 \\hbar\\\\0.5 \\hbar & 0\\end{matrix}\\right]$"
      ],
      "text/plain": [
       "Matrix([\n",
       "[       0, 0.5*hbar],\n",
       "[0.5*hbar,        0]])"
      ]
     },
     "metadata": {},
     "output_type": "display_data"
    },
    {
     "data": {
      "text/latex": [
       "$\\displaystyle \\left[\\begin{matrix}0 & - 0.5 i \\hbar\\\\0.5 i \\hbar & 0\\end{matrix}\\right]$"
      ],
      "text/plain": [
       "Matrix([\n",
       "[         0, -0.5*I*hbar],\n",
       "[0.5*I*hbar,           0]])"
      ]
     },
     "metadata": {},
     "output_type": "display_data"
    },
    {
     "data": {
      "text/latex": [
       "$\\displaystyle \\left[\\begin{matrix}0.5 \\hbar & 0\\\\0 & - 0.5 \\hbar\\end{matrix}\\right]$"
      ],
      "text/plain": [
       "Matrix([\n",
       "[0.5*hbar,         0],\n",
       "[       0, -0.5*hbar]])"
      ]
     },
     "metadata": {},
     "output_type": "display_data"
    }
   ],
   "source": [
    "# Ορισμός και εκτύπωση των spin-πινάκων s_x,s_y και s_z\n",
    "s_x = hbar*0.5*sigma_1\n",
    "s_y = hbar*0.5*sigma_2\n",
    "s_z = hbar*0.5*sigma_3\n",
    "\n",
    "# γράψτε παραπάνω τον σωστό τύπο των πινάκων s_x,s_y και s_z\n",
    "\n",
    "display(s_x)\n",
    "display(s_y)\n",
    "display(s_z)"
   ]
  },
  {
   "cell_type": "code",
   "execution_count": 73,
   "metadata": {},
   "outputs": [
    {
     "data": {
      "text/latex": [
       "$\\displaystyle \\left[\\begin{matrix}0.5 \\hbar \\cos{\\left(2 t ω \\right)}\\end{matrix}\\right]$"
      ],
      "text/plain": [
       "Matrix([[0.5*hbar*cos(2*t*ω)]])"
      ]
     },
     "metadata": {},
     "output_type": "display_data"
    },
    {
     "data": {
      "text/latex": [
       "$\\displaystyle \\left[\\begin{matrix}0.5 \\hbar \\sin{\\left(2 t ω \\right)}\\end{matrix}\\right]$"
      ],
      "text/plain": [
       "Matrix([[0.5*hbar*sin(2*t*ω)]])"
      ]
     },
     "metadata": {},
     "output_type": "display_data"
    },
    {
     "data": {
      "text/latex": [
       "$\\displaystyle \\left[\\begin{matrix}0\\end{matrix}\\right]$"
      ],
      "text/plain": [
       "Matrix([[0]])"
      ]
     },
     "metadata": {},
     "output_type": "display_data"
    }
   ],
   "source": [
    "# Εύρεση και εκτύπωση των ζητούμενων μέσων τιμών\n",
    "mean_s_x = smp.simplify(smp.conjugate(spin_t(t,omega).transpose())*s_x*spin_t(t,omega)) # <s_x>(t)\n",
    "mean_s_y = smp.simplify(smp.conjugate(spin_t(t,omega).transpose())*s_y*spin_t(t,omega)) # <s_y>(t)\n",
    "mean_s_z = smp.simplify(smp.conjugate(spin_t(t,omega).transpose())*s_z*spin_t(t,omega)) # <s_z>(t)\n",
    "\n",
    "# εντός των εντολών simplify γράψτε τους σωστούς τύπους\n",
    "# για τις ζητούμενες μέσες τιμές\n",
    "\n",
    "display(mean_s_x)\n",
    "display(mean_s_y)\n",
    "display(mean_s_z)"
   ]
  },
  {
   "cell_type": "markdown",
   "metadata": {},
   "source": [
    "**β)** Ορίστε τις μέσες τιμές $\\langle \\hat{s}_x \\rangle_t$ και $\\langle \\hat{s}_y \\rangle_t$ ως αριθμητικές συναρτήσεις των $t$ και $ω$, χρησιμοποιώντας την εντολή `lambdify()`. Θεωρείστε ότι $\\hbar=1$, $ω=\\frac{π}{4}Hz$ και δημιουργήστε ένα `NumPy` linspace 100 σημείων του $t$, στο διάστημα $[0,4]s$. Φτιάξτε μια γραφική παράσταση χρησιμοποιώντας τις τιμές της αριθμητικής συνάρτησης $\\langle \\hat{s}_x \\rangle_t$ στα σημεία του linspace ως συντεταγμένες στον οριζόντιο άξονα και τις τιμές της αριθμητικής συνάρτησης $\\langle \\hat{s}_y \\rangle_t$ στα σημεία του linspace ως συντεταγμένες στον κατακόρυφο άξονα. Σχολιάστε το αποτέλεσμα."
   ]
  },
  {
   "cell_type": "code",
   "execution_count": 104,
   "metadata": {},
   "outputs": [
    {
     "data": {
      "text/plain": [
       "0.5"
      ]
     },
     "metadata": {},
     "output_type": "display_data"
    },
    {
     "data": {
      "text/plain": [
       "0.49993706383693753"
      ]
     },
     "metadata": {},
     "output_type": "display_data"
    },
    {
     "data": {
      "image/png": "[encoded data removed]",
      "text/plain": [
       "<Figure size 640x480 with 1 Axes>"
      ]
     },
     "metadata": {},
     "output_type": "display_data"
    },
    {
     "data": {
      "image/png": "[encoded data removed]",
      "text/plain": [
       "<Figure size 640x480 with 1 Axes>"
      ]
     },
     "metadata": {},
     "output_type": "display_data"
    }
   ],
   "source": [
    "# αντί για 14 ή/και 15 να αντικαταστήσετε την σωστή παράσταση που θα\n",
    "# μεταγλωττιστεί σε αριθμητική συνάρτηση\n",
    "mean_s_x_num = smp.lambdify([t,omega],mean_s_x[0].subs(hbar,1),\"numpy\")\n",
    "mean_s_y_num = smp.lambdify([t,omega],mean_s_y[0].subs(hbar,1),\"numpy\")\n",
    "\n",
    "from numpy import linspace,pi # να εισάγετε μόνο την εντολή linspace και το pi από την NumPy\n",
    "t_space = linspace(0,4,100) # φτιάξτε το ζητούμενο linspace\n",
    "\n",
    "# εισαγωγή της βιβλιοθήκης matplotlib για γραφικές παραστάσεις\n",
    "import matplotlib.pyplot as plt \n",
    "\n",
    "omega_val = pi/4 # αντικαταστήστε το 16 με τη δοσμένη τιμή για το ω\n",
    "display(mean_s_x_num(t_space,omega_val).max())\n",
    "display(mean_s_y_num(t_space,omega_val).max())\n",
    "plt.plot(mean_s_x_num(t_space,omega_val),mean_s_y_num(t_space,omega_val))\n",
    "plt.axis(\"equal\") # δοκιμάστε να μετατρέψετε σε σχόλιο τη συγκεκριμένη εντολή και ξανατρέξτε το κελί, τι παρατηρείτε;\n",
    "plt.xlabel(r\"$\\langle \\hat{s}_x \\rangle_t$\")\n",
    "plt.ylabel(r\"$\\langle \\hat{s}_y \\rangle_t$\")\n",
    "plt.grid(True)\n",
    "plt.show()\n",
    "plt.plot(mean_s_x_num(t_space,omega_val),mean_s_y_num(t_space,omega_val))\n",
    "plt.xlabel(r\"$\\langle \\hat{s}_x \\rangle_t$\")\n",
    "plt.ylabel(r\"$\\langle \\hat{s}_y \\rangle_t$\")\n",
    "plt.grid(True)\n",
    "plt.show()"
   ]
  },
  {
   "cell_type": "markdown",
   "metadata": {},
   "source": [
    "**Σχολιασμός αποτελέσματος**"
   ]
  },
  {
   "cell_type": "markdown",
   "metadata": {},
   "source": [
    "Χωρίς την εντολή `plt.axis(\"equal\")` , εμφανίζεται μια έλλειψη ενώ παρουσία αυτής εμφανίζεται ένας κύκλος. Αυτο οφείλεται στην εντολή καθ'αυτήν η οποία εξασφαλίζει ίσο scaling και στους άξονες, δεδομένου ότι μελετάμε την σχέση μεταξύ των μέσων τιμών spin  $\\langle \\hat{s}_x \\rangle_t$ και $\\langle \\hat{s}_y \\rangle_t$ αλλα και στις μέγιστες τιμές που παίρνουμε για τις 2 μέσες τιμές όπως φαίνεται απο τις εντολές `display(mean_s_x_num(t_space,omega_val).max())` και `display(mean_s_y_num(t_space,omega_val).max())`.\n",
    ">\n",
    "Σχειτκά με τα αποτελέσματα τώρα, ουσιαστικά μελετήσαμε το φαινόμενο μετάπτωσης Larmor. Στο συσγκεκριμένο πρόβλημα η χαμιλτονιανή του συστήματος και η $z$ συνιστώσα του spin έχουν τις ίδιες ιδιοκαταστάσεις, δεδομένου ότι $\\vec{B}//\\vec{e_z}$. Αυτό σημαίνει πως άμα φανταστούμε το $\\langle \\hat{\\vec{S}} \\rangle_t$ ως ένα διάνυσμα σε ένα σύστημα συντεταγμένων $xyz$, τότε αυτό θα σχηματίζει γωνία $ω$($ω=π/4$ για το συγκεκριμένο παράδειγμα) με τον άξονα $z$ και θα περιστρέφεται γύρω απο αυτόν σχηματίζοντας έναν κώνο, λόγω της αβεβαιώτητας στις τιμές των $s_x$ και $s_y$. H συγκεκριμενη περιστροφή του διανύσματος γίνεται κατανοητή απο την χρονική εξέλιξη που εμείς εφαρμόσαμε και μελετήσαμε στο πρόβλημα, με τις τιμές των $\\langle \\hat{s}_x \\rangle_t$ και $\\langle \\hat{s}_y \\rangle_t$ να αυξομειώνονται διαρκώς."
   ]
  },
  {
   "cell_type": "code",
   "execution_count": null,
   "metadata": {},
   "outputs": [],
   "source": []
  }
 ],
 "metadata": {
  "kernelspec": {
   "display_name": "Python [conda env:base] *",
   "language": "python",
   "name": "conda-base-py"
  },
  "language_info": {
   "codemirror_mode": {
    "name": "ipython",
    "version": 3
   },
   "file_extension": ".py",
   "mimetype": "text/x-python",
   "name": "python",
   "nbconvert_exporter": "python",
   "pygments_lexer": "ipython3",
   "version": "3.12.3"
  }
 },
 "nbformat": 4,
 "nbformat_minor": 4
}
